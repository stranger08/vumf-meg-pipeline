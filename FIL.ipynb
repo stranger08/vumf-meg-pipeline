{
 "cells": [
  {
   "cell_type": "code",
   "execution_count": 1,
   "id": "2dc06040-7ea7-456e-947c-05d02eba8b33",
   "metadata": {},
   "outputs": [],
   "source": [
    "import os\n",
    "\n",
    "import matplotlib.pyplot as plt\n",
    "import numpy as np\n",
    "from mne.preprocessing import ICA\n",
    "import mne"
   ]
  },
  {
   "cell_type": "code",
   "execution_count": 2,
   "id": "0215db61-e8b3-4364-a5d4-cb7c6ebac7a7",
   "metadata": {},
   "outputs": [],
   "source": [
    "#SUBJECT_ID = os.environ.get(\"SUBJECT_ID\")\n",
    "SUBJECT_ID = \"sub-V1008\"\n",
    "ORIGIN_DIR = \"/home/s8/Documents/VU/dataset/origin\"\n",
    "WORKING_DIR = f\"/home/s8/Documents/VU/dataset/workdir/{SUBJECT_ID}\"\n",
    "MEG_REPAIRED_PATH = f\"{WORKING_DIR}/raw_sss_repaired_raw_sss.fif\"\n",
    "MEG_FILTERED_PATH = f\"{WORKING_DIR}/raw_meg.fif\""
   ]
  },
  {
   "cell_type": "code",
   "execution_count": 3,
   "id": "0a01caea-47c2-4125-8392-428253c00a80",
   "metadata": {},
   "outputs": [
    {
     "name": "stdout",
     "output_type": "stream",
     "text": [
      "Opening raw data file /home/s8/Documents/VU/dataset/workdir/sub-V1005/raw_sss_repaired_raw_sss.fif...\n",
      "    Read 5 compensation matrices\n",
      "    Range : 0 ... 1507199 =      0.000 ...  1255.999 secs\n",
      "Ready.\n",
      "Opening raw data file /home/s8/Documents/VU/dataset/workdir/sub-V1005/raw_sss_repaired_raw_sss-1.fif...\n",
      "    Read 5 compensation matrices\n",
      "    Range : 1507200 ... 3014399 =   1256.000 ...  2511.999 secs\n",
      "Ready.\n",
      "Opening raw data file /home/s8/Documents/VU/dataset/workdir/sub-V1005/raw_sss_repaired_raw_sss-2.fif...\n",
      "    Read 5 compensation matrices\n",
      "    Range : 3014400 ... 4521599 =   2512.000 ...  3767.999 secs\n",
      "Ready.\n",
      "Opening raw data file /home/s8/Documents/VU/dataset/workdir/sub-V1005/raw_sss_repaired_raw_sss-3.fif...\n",
      "    Read 5 compensation matrices\n",
      "    Range : 4521600 ... 4630426 =   3768.000 ...  3858.688 secs\n",
      "Ready.\n",
      "Current compensation grade : 0\n",
      "Reading 0 ... 4630426  =      0.000 ...  3858.688 secs...\n",
      "Filtering raw data in 1 contiguous segment\n",
      "Setting up band-pass filter from 0.1 - 30 Hz\n",
      "\n",
      "FIR filter parameters\n",
      "---------------------\n",
      "Designing a one-pass, zero-phase, non-causal bandpass filter:\n",
      "- Windowed time-domain design (firwin) method\n",
      "- Hamming window with 0.0194 passband ripple and 53 dB stopband attenuation\n",
      "- Lower passband edge: 0.10\n",
      "- Lower transition bandwidth: 0.10 Hz (-6 dB cutoff frequency: 0.05 Hz)\n",
      "- Upper passband edge: 30.00 Hz\n",
      "- Upper transition bandwidth: 7.50 Hz (-6 dB cutoff frequency: 33.75 Hz)\n",
      "- Filter length: 39601 samples (33.001 s)\n",
      "\n"
     ]
    },
    {
     "name": "stderr",
     "output_type": "stream",
     "text": [
      "[Parallel(n_jobs=1)]: Done  17 tasks      | elapsed:    1.4s\n",
      "[Parallel(n_jobs=1)]: Done  71 tasks      | elapsed:    5.7s\n",
      "[Parallel(n_jobs=1)]: Done 161 tasks      | elapsed:   14.2s\n",
      "[Parallel(n_jobs=1)]: Done 287 tasks      | elapsed:   26.4s\n"
     ]
    },
    {
     "name": "stdout",
     "output_type": "stream",
     "text": [
      "Writing /home/s8/Documents/VU/dataset/workdir/sub-V1005/raw_meg.fif\n",
      "Closing /home/s8/Documents/VU/dataset/workdir/sub-V1005/raw_meg.fif\n",
      "Writing /home/s8/Documents/VU/dataset/workdir/sub-V1005/raw_meg-1.fif\n",
      "Closing /home/s8/Documents/VU/dataset/workdir/sub-V1005/raw_meg-1.fif\n",
      "Writing /home/s8/Documents/VU/dataset/workdir/sub-V1005/raw_meg-2.fif\n",
      "Closing /home/s8/Documents/VU/dataset/workdir/sub-V1005/raw_meg-2.fif\n",
      "Writing /home/s8/Documents/VU/dataset/workdir/sub-V1005/raw_meg-3.fif\n",
      "Closing /home/s8/Documents/VU/dataset/workdir/sub-V1005/raw_meg-3.fif\n",
      "[done]\n"
     ]
    }
   ],
   "source": [
    "raw = mne.io.read_raw_fif(MEG_REPAIRED_PATH, preload=True)\n",
    "raw.filter(l_freq=0.1, h_freq=30)\n",
    "raw.save(MEG_FILTERED_PATH, overwrite=True)"
   ]
  }
 ],
 "metadata": {
  "kernelspec": {
   "display_name": "Python 3 (ipykernel)",
   "language": "python",
   "name": "python3"
  },
  "language_info": {
   "codemirror_mode": {
    "name": "ipython",
    "version": 3
   },
   "file_extension": ".py",
   "mimetype": "text/x-python",
   "name": "python",
   "nbconvert_exporter": "python",
   "pygments_lexer": "ipython3",
   "version": "3.10.13"
  }
 },
 "nbformat": 4,
 "nbformat_minor": 5
}
