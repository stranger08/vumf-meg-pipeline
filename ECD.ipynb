{
 "cells": [
  {
   "cell_type": "code",
   "execution_count": 45,
   "id": "c004c909-25f0-4c10-acef-1c53e940aae9",
   "metadata": {},
   "outputs": [],
   "source": [
    "import random\n",
    "import mne\n",
    "import timeit\n",
    "from const import BASE_WORKDIR, EVOKED_FULL_FNAME, COVARIANCE_FNAME, SUBJECTS_DIR\n",
    "ITERATIONS = 10\n",
    "RANDOM_CHANNELS_COUNT = 10\n",
    "\n",
    "def generate_dipoles(subj):\n",
    "    mne_lib = mne\n",
    "    evoked = mne.read_evokeds(f\"{BASE_WORKDIR}/{subj}/{EVOKED_FULL_FNAME}\", verbose=\"ERROR\")[0]\n",
    "    cov = mne.read_cov(f\"{BASE_WORKDIR}/{subj}/{COVARIANCE_FNAME}\", verbose=\"ERROR\")\n",
    "    bem = mne.read_bem_solution(f\"{SUBJECTS_DIR}/{subj}/bem/{subj}-5120-bem-sol.fif\", verbose=\"ERROR\")\n",
    "    trans_path = f\"{SUBJECTS_DIR}/{subj}/bem/{subj}-trans.fif\"\n",
    "    chs = evoked.info['ch_names']\n",
    "    evoked = evoked.copy().crop(0, None)\n",
    "\n",
    "    # fit dipoles using full sensor array\n",
    "    dip_full, res = mne.fit_dipole(evoked, cov, bem, trans_path, n_jobs=-1, rank=\"info\", verbose=\"ERROR\")\n",
    "    dip_full.save(f\"{BASE_WORKDIR}/{subj}/full-dipoles.dip\", overwrite=True)\n",
    "\n",
    "    # fit dipoles using reduced number of sensors - for the sake of variability, select random locations.\n",
    "    # altough received location do not have biological meaning, we are aiming to train regressor model to replicate ECD algorithm\n",
    "    for iteration in range(ITERATIONS):\n",
    "        random_indices = random.sample(range(len(chs)), RANDOM_CHANNELS_COUNT)\n",
    "        random_channels = np.array(chs)[random_indices]\n",
    "        random_evoked = evoked.copy().pick(picks=random_channels)\n",
    "        random_evoked.save(f\"{BASE_WORKDIR}/{subj}/random-{iteration}-ave.fif\", overwrite=True)\n",
    "        dip, res = mne.fit_dipole(random_evoked, cov, bem, trans_path, n_jobs=-1, rank=\"info\", verbose=\"ERROR\")\n",
    "        dip.save(f\"{BASE_WORKDIR}/{subj}/random-{iteration}-dipoles.dip\", overwrite=True)"
   ]
  },
  {
   "cell_type": "code",
   "execution_count": null,
   "id": "816a1844-803d-41db-84f4-ddb33edb1b01",
   "metadata": {},
   "outputs": [],
   "source": [
    "import numpy as np\n",
    "from util import load_subjects_list\n",
    "\n",
    "for subj in load_subjects_list():\n",
    "    print(f\"-> generate dipoles for {subj}\")\n",
    "    generate_dipoles(subj)"
   ]
  },
  {
   "cell_type": "code",
   "execution_count": 52,
   "id": "f9ce6b17-32d0-4b40-b6b7-3afa57e294ce",
   "metadata": {},
   "outputs": [
    {
     "name": "stdout",
     "output_type": "stream",
     "text": [
      "(273, 1201)\n",
      "602.5141278570081\n"
     ]
    }
   ],
   "source": [
    "# Measure how long does it take to dipole fit one epoch (1200+-1 time points), full case\n",
    "mne_lib = mne\n",
    "subj = 'sub-V1004'\n",
    "evoked = mne.read_evokeds(f\"{BASE_WORKDIR}/{subj}/{EVOKED_FULL_FNAME}\", verbose=\"ERROR\")[0].crop(0, None)\n",
    "cov = mne.read_cov(f\"{BASE_WORKDIR}/{subj}/{COVARIANCE_FNAME}\", verbose=\"ERROR\")\n",
    "bem = mne.read_bem_solution(f\"{SUBJECTS_DIR}/{subj}/bem/{subj}-5120-bem-sol.fif\", verbose=\"ERROR\")\n",
    "trans_path = f\"{SUBJECTS_DIR}/{subj}/bem/{subj}-trans.fif\"\n",
    "\n",
    "print(evoked.data.shape)\n",
    "elapsed_time = timeit.timeit('mne_lib.fit_dipole(evoked, cov, bem, trans_path, n_jobs=-1, rank=\"info\", verbose=\"ERROR\")', globals=locals(), number=1)\n",
    "print(elapsed_time)"
   ]
  },
  {
   "cell_type": "code",
   "execution_count": 56,
   "id": "602bf2e1-0fb4-47ed-9bfe-4aa730e032db",
   "metadata": {},
   "outputs": [
    {
     "name": "stdout",
     "output_type": "stream",
     "text": [
      "(10, 1201)\n",
      "990.5913933620031\n"
     ]
    }
   ],
   "source": [
    "# Measure how long does it take to dipole fit one epoch (1200+-1 time points), subset case\n",
    "mne_lib = mne\n",
    "subj = 'sub-V1007'\n",
    "evoked = mne.read_evokeds(f\"{BASE_WORKDIR}/{subj}/{EVOKED_FULL_FNAME}\", verbose=\"ERROR\")[0].crop(0, None)\n",
    "cov = mne.read_cov(f\"{BASE_WORKDIR}/{subj}/{COVARIANCE_FNAME}\", verbose=\"ERROR\")\n",
    "bem = mne.read_bem_solution(f\"{SUBJECTS_DIR}/{subj}/bem/{subj}-5120-bem-sol.fif\", verbose=\"ERROR\")\n",
    "trans_path = f\"{SUBJECTS_DIR}/{subj}/bem/{subj}-trans.fif\"\n",
    "chs = evoked.info['ch_names']\n",
    "random_indices = random.sample(range(len(chs)), RANDOM_CHANNELS_COUNT)\n",
    "random_channels = np.array(chs)[random_indices]\n",
    "random_evoked = evoked.copy().pick(picks=random_channels)\n",
    "\n",
    "print(random_evoked.data.shape)\n",
    "elapsed_time = timeit.timeit('mne_lib.fit_dipole(random_evoked, cov, bem, trans_path, n_jobs=-1, rank=\"info\", verbose=\"ERROR\")', globals=locals(), number=1)\n",
    "print(elapsed_time)"
   ]
  }
 ],
 "metadata": {
  "kernelspec": {
   "display_name": "Python 3 (ipykernel)",
   "language": "python",
   "name": "python3"
  },
  "language_info": {
   "codemirror_mode": {
    "name": "ipython",
    "version": 3
   },
   "file_extension": ".py",
   "mimetype": "text/x-python",
   "name": "python",
   "nbconvert_exporter": "python",
   "pygments_lexer": "ipython3",
   "version": "3.10.13"
  }
 },
 "nbformat": 4,
 "nbformat_minor": 5
}
