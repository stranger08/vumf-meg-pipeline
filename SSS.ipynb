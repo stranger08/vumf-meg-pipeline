{
 "cells": [
  {
   "cell_type": "code",
   "execution_count": 1,
   "id": "af848639-c35b-4578-98fb-816cf5c70cdf",
   "metadata": {},
   "outputs": [
    {
     "name": "stderr",
     "output_type": "stream",
     "text": [
      "/tmp/ipykernel_20436/696113382.py:5: DeprecationWarning: \n",
      "Pyarrow will become a required dependency of pandas in the next major release of pandas (pandas 3.0),\n",
      "(to allow more performant data types, such as the Arrow string type, and better interoperability with other libraries)\n",
      "but was not found to be installed on your system.\n",
      "If this would cause problems for you,\n",
      "please provide us feedback at https://github.com/pandas-dev/pandas/issues/54466\n",
      "        \n",
      "  import pandas as pd\n"
     ]
    }
   ],
   "source": [
    "import os\n",
    "\n",
    "import matplotlib.pyplot as plt\n",
    "import numpy as np\n",
    "import pandas as pd\n",
    "import seaborn as sns\n",
    "\n",
    "import mne\n",
    "from mne.preprocessing import find_bad_channels_maxwell"
   ]
  },
  {
   "cell_type": "code",
   "execution_count": 2,
   "id": "a5cd23ea-a1a5-46d9-a9a0-6ebdd84e6661",
   "metadata": {},
   "outputs": [],
   "source": [
    "SUBJECT_ID = \"sub-V1008\"\n",
    "WORKING_DIR = f\"/home/s8/Documents/VU/dataset/workdir/{SUBJECT_ID}\"\n",
    "MEG_PATH = f\"{WORKING_DIR}/raw_ecg_eog_repaired_meg.fif\""
   ]
  },
  {
   "cell_type": "code",
   "execution_count": 3,
   "id": "b0fdebb0-b1bd-4494-9a1e-8dd10e1b73c4",
   "metadata": {},
   "outputs": [
    {
     "name": "stdout",
     "output_type": "stream",
     "text": [
      "Opening raw data file /home/s8/Documents/VU/dataset/workdir/sub-V1006/raw_ecg_eog_repaired_meg.fif...\n"
     ]
    },
    {
     "ename": "FileNotFoundError",
     "evalue": "fname does not exist: \"/home/s8/Documents/VU/dataset/workdir/sub-V1006/raw_ecg_eog_repaired_meg.fif\"",
     "output_type": "error",
     "traceback": [
      "\u001b[0;31m---------------------------------------------------------------------------\u001b[0m",
      "\u001b[0;31mFileNotFoundError\u001b[0m                         Traceback (most recent call last)",
      "Cell \u001b[0;32mIn[3], line 1\u001b[0m\n\u001b[0;32m----> 1\u001b[0m raw \u001b[38;5;241m=\u001b[39m \u001b[43mmne\u001b[49m\u001b[38;5;241;43m.\u001b[39;49m\u001b[43mio\u001b[49m\u001b[38;5;241;43m.\u001b[39;49m\u001b[43mread_raw_fif\u001b[49m\u001b[43m(\u001b[49m\u001b[43mMEG_PATH\u001b[49m\u001b[43m,\u001b[49m\u001b[43m \u001b[49m\u001b[43mpreload\u001b[49m\u001b[38;5;241;43m=\u001b[39;49m\u001b[38;5;28;43;01mFalse\u001b[39;49;00m\u001b[43m)\u001b[49m\n",
      "File \u001b[0;32m~/miniconda3/envs/p310/lib/python3.10/site-packages/mne/io/fiff/raw.py:543\u001b[0m, in \u001b[0;36mread_raw_fif\u001b[0;34m(fname, allow_maxshield, preload, on_split_missing, verbose)\u001b[0m\n\u001b[1;32m    502\u001b[0m \u001b[38;5;129m@fill_doc\u001b[39m\n\u001b[1;32m    503\u001b[0m \u001b[38;5;28;01mdef\u001b[39;00m \u001b[38;5;21mread_raw_fif\u001b[39m(\n\u001b[1;32m    504\u001b[0m     fname, allow_maxshield\u001b[38;5;241m=\u001b[39m\u001b[38;5;28;01mFalse\u001b[39;00m, preload\u001b[38;5;241m=\u001b[39m\u001b[38;5;28;01mFalse\u001b[39;00m, on_split_missing\u001b[38;5;241m=\u001b[39m\u001b[38;5;124m\"\u001b[39m\u001b[38;5;124mraise\u001b[39m\u001b[38;5;124m\"\u001b[39m, verbose\u001b[38;5;241m=\u001b[39m\u001b[38;5;28;01mNone\u001b[39;00m\n\u001b[1;32m    505\u001b[0m ):\n\u001b[1;32m    506\u001b[0m \u001b[38;5;250m    \u001b[39m\u001b[38;5;124;03m\"\"\"Reader function for Raw FIF data.\u001b[39;00m\n\u001b[1;32m    507\u001b[0m \n\u001b[1;32m    508\u001b[0m \u001b[38;5;124;03m    Parameters\u001b[39;00m\n\u001b[0;32m   (...)\u001b[0m\n\u001b[1;32m    541\u001b[0m \u001b[38;5;124;03m    are updated accordingly.\u001b[39;00m\n\u001b[1;32m    542\u001b[0m \u001b[38;5;124;03m    \"\"\"\u001b[39;00m\n\u001b[0;32m--> 543\u001b[0m     \u001b[38;5;28;01mreturn\u001b[39;00m \u001b[43mRaw\u001b[49m\u001b[43m(\u001b[49m\n\u001b[1;32m    544\u001b[0m \u001b[43m        \u001b[49m\u001b[43mfname\u001b[49m\u001b[38;5;241;43m=\u001b[39;49m\u001b[43mfname\u001b[49m\u001b[43m,\u001b[49m\n\u001b[1;32m    545\u001b[0m \u001b[43m        \u001b[49m\u001b[43mallow_maxshield\u001b[49m\u001b[38;5;241;43m=\u001b[39;49m\u001b[43mallow_maxshield\u001b[49m\u001b[43m,\u001b[49m\n\u001b[1;32m    546\u001b[0m \u001b[43m        \u001b[49m\u001b[43mpreload\u001b[49m\u001b[38;5;241;43m=\u001b[39;49m\u001b[43mpreload\u001b[49m\u001b[43m,\u001b[49m\n\u001b[1;32m    547\u001b[0m \u001b[43m        \u001b[49m\u001b[43mverbose\u001b[49m\u001b[38;5;241;43m=\u001b[39;49m\u001b[43mverbose\u001b[49m\u001b[43m,\u001b[49m\n\u001b[1;32m    548\u001b[0m \u001b[43m        \u001b[49m\u001b[43mon_split_missing\u001b[49m\u001b[38;5;241;43m=\u001b[39;49m\u001b[43mon_split_missing\u001b[49m\u001b[43m,\u001b[49m\n\u001b[1;32m    549\u001b[0m \u001b[43m    \u001b[49m\u001b[43m)\u001b[49m\n",
      "File \u001b[0;32m<decorator-gen-338>:12\u001b[0m, in \u001b[0;36m__init__\u001b[0;34m(self, fname, allow_maxshield, preload, on_split_missing, verbose)\u001b[0m\n",
      "File \u001b[0;32m~/miniconda3/envs/p310/lib/python3.10/site-packages/mne/io/fiff/raw.py:105\u001b[0m, in \u001b[0;36mRaw.__init__\u001b[0;34m(self, fname, allow_maxshield, preload, on_split_missing, verbose)\u001b[0m\n\u001b[1;32m    103\u001b[0m next_fname \u001b[38;5;241m=\u001b[39m fname\n\u001b[1;32m    104\u001b[0m \u001b[38;5;28;01mwhile\u001b[39;00m next_fname \u001b[38;5;129;01mis\u001b[39;00m \u001b[38;5;129;01mnot\u001b[39;00m \u001b[38;5;28;01mNone\u001b[39;00m:\n\u001b[0;32m--> 105\u001b[0m     raw, next_fname, buffer_size_sec \u001b[38;5;241m=\u001b[39m \u001b[38;5;28;43mself\u001b[39;49m\u001b[38;5;241;43m.\u001b[39;49m\u001b[43m_read_raw_file\u001b[49m\u001b[43m(\u001b[49m\n\u001b[1;32m    106\u001b[0m \u001b[43m        \u001b[49m\u001b[43mnext_fname\u001b[49m\u001b[43m,\u001b[49m\u001b[43m \u001b[49m\u001b[43mallow_maxshield\u001b[49m\u001b[43m,\u001b[49m\u001b[43m \u001b[49m\u001b[43mpreload\u001b[49m\u001b[43m,\u001b[49m\u001b[43m \u001b[49m\u001b[43mdo_check_ext\u001b[49m\n\u001b[1;32m    107\u001b[0m \u001b[43m    \u001b[49m\u001b[43m)\u001b[49m\n\u001b[1;32m    108\u001b[0m     do_check_ext \u001b[38;5;241m=\u001b[39m \u001b[38;5;28;01mFalse\u001b[39;00m\n\u001b[1;32m    109\u001b[0m     raws\u001b[38;5;241m.\u001b[39mappend(raw)\n",
      "File \u001b[0;32m<decorator-gen-339>:12\u001b[0m, in \u001b[0;36m_read_raw_file\u001b[0;34m(self, fname, allow_maxshield, preload, do_check_ext, verbose)\u001b[0m\n",
      "File \u001b[0;32m~/miniconda3/envs/p310/lib/python3.10/site-packages/mne/io/fiff/raw.py:187\u001b[0m, in \u001b[0;36mRaw._read_raw_file\u001b[0;34m(self, fname, allow_maxshield, preload, do_check_ext, verbose)\u001b[0m\n\u001b[1;32m    185\u001b[0m     check_fname(fname, \u001b[38;5;124m\"\u001b[39m\u001b[38;5;124mraw\u001b[39m\u001b[38;5;124m\"\u001b[39m, endings)\n\u001b[1;32m    186\u001b[0m \u001b[38;5;66;03m# filename\u001b[39;00m\n\u001b[0;32m--> 187\u001b[0m fname \u001b[38;5;241m=\u001b[39m \u001b[38;5;28mstr\u001b[39m(\u001b[43m_check_fname\u001b[49m\u001b[43m(\u001b[49m\u001b[43mfname\u001b[49m\u001b[43m,\u001b[49m\u001b[43m \u001b[49m\u001b[38;5;124;43m\"\u001b[39;49m\u001b[38;5;124;43mread\u001b[39;49m\u001b[38;5;124;43m\"\u001b[39;49m\u001b[43m,\u001b[49m\u001b[43m \u001b[49m\u001b[38;5;28;43;01mTrue\u001b[39;49;00m\u001b[43m,\u001b[49m\u001b[43m \u001b[49m\u001b[38;5;124;43m\"\u001b[39;49m\u001b[38;5;124;43mfname\u001b[39;49m\u001b[38;5;124;43m\"\u001b[39;49m\u001b[43m)\u001b[49m)\n\u001b[1;32m    188\u001b[0m ext \u001b[38;5;241m=\u001b[39m os\u001b[38;5;241m.\u001b[39mpath\u001b[38;5;241m.\u001b[39msplitext(fname)[\u001b[38;5;241m1\u001b[39m]\u001b[38;5;241m.\u001b[39mlower()\n\u001b[1;32m    189\u001b[0m whole_file \u001b[38;5;241m=\u001b[39m preload \u001b[38;5;28;01mif\u001b[39;00m \u001b[38;5;124m\"\u001b[39m\u001b[38;5;124m.gz\u001b[39m\u001b[38;5;124m\"\u001b[39m \u001b[38;5;129;01min\u001b[39;00m ext \u001b[38;5;28;01melse\u001b[39;00m \u001b[38;5;28;01mFalse\u001b[39;00m\n",
      "File \u001b[0;32m<decorator-gen-0>:12\u001b[0m, in \u001b[0;36m_check_fname\u001b[0;34m(fname, overwrite, must_exist, name, need_dir, verbose)\u001b[0m\n",
      "File \u001b[0;32m~/miniconda3/envs/p310/lib/python3.10/site-packages/mne/utils/check.py:263\u001b[0m, in \u001b[0;36m_check_fname\u001b[0;34m(fname, overwrite, must_exist, name, need_dir, verbose)\u001b[0m\n\u001b[1;32m    261\u001b[0m             \u001b[38;5;28;01mraise\u001b[39;00m \u001b[38;5;167;01mPermissionError\u001b[39;00m(\u001b[38;5;124mf\u001b[39m\u001b[38;5;124m\"\u001b[39m\u001b[38;5;132;01m{\u001b[39;00mname\u001b[38;5;132;01m}\u001b[39;00m\u001b[38;5;124m does not have read permissions: \u001b[39m\u001b[38;5;132;01m{\u001b[39;00mfname\u001b[38;5;132;01m}\u001b[39;00m\u001b[38;5;124m\"\u001b[39m)\n\u001b[1;32m    262\u001b[0m \u001b[38;5;28;01melif\u001b[39;00m must_exist:\n\u001b[0;32m--> 263\u001b[0m     \u001b[38;5;28;01mraise\u001b[39;00m \u001b[38;5;167;01mFileNotFoundError\u001b[39;00m(\u001b[38;5;124mf\u001b[39m\u001b[38;5;124m'\u001b[39m\u001b[38;5;132;01m{\u001b[39;00mname\u001b[38;5;132;01m}\u001b[39;00m\u001b[38;5;124m does not exist: \u001b[39m\u001b[38;5;124m\"\u001b[39m\u001b[38;5;132;01m{\u001b[39;00mfname\u001b[38;5;132;01m}\u001b[39;00m\u001b[38;5;124m\"\u001b[39m\u001b[38;5;124m'\u001b[39m)\n\u001b[1;32m    265\u001b[0m \u001b[38;5;28;01mreturn\u001b[39;00m fname\n",
      "\u001b[0;31mFileNotFoundError\u001b[0m: fname does not exist: \"/home/s8/Documents/VU/dataset/workdir/sub-V1006/raw_ecg_eog_repaired_meg.fif\""
     ]
    }
   ],
   "source": [
    "raw = mne.io.read_raw_fif(MEG_PATH, preload=False)"
   ]
  },
  {
   "cell_type": "code",
   "execution_count": null,
   "id": "76cc20e0-7ab7-455d-9f6f-7129765a3466",
   "metadata": {},
   "outputs": [],
   "source": [
    "# crop for speedy development, skip when collecting full results\n",
    "# raw = raw.crop(tmin=0, tmax=360)"
   ]
  },
  {
   "cell_type": "code",
   "execution_count": null,
   "id": "31f4bbba-c0b1-4702-a7d5-7e7b3cf8c146",
   "metadata": {},
   "outputs": [],
   "source": [
    "raw.info[\"bads\"] = []\n",
    "raw_check = raw.copy()\n",
    "auto_noisy_chs, auto_flat_chs, auto_scores = find_bad_channels_maxwell(\n",
    "    raw_check,\n",
    "    return_scores=True,\n",
    "    verbose=True,\n",
    ")\n",
    "print(auto_noisy_chs)  # we should find them!\n",
    "print(auto_flat_chs)  # none for this dataset"
   ]
  },
  {
   "cell_type": "code",
   "execution_count": null,
   "id": "ebb36aff-163c-484d-b627-88c5436f169c",
   "metadata": {},
   "outputs": [],
   "source": [
    "bads = raw.info[\"bads\"] + auto_noisy_chs + auto_flat_chs\n",
    "raw.info[\"bads\"] = bads"
   ]
  },
  {
   "cell_type": "code",
   "execution_count": null,
   "id": "299d4672-9e7c-4cc0-9234-b01260660799",
   "metadata": {},
   "outputs": [],
   "source": [
    "# Only select the data for gradiometer channels.\n",
    "ch_type = \"mag\"\n",
    "ch_subset = auto_scores[\"ch_types\"] == ch_type\n",
    "ch_names = auto_scores[\"ch_names\"][ch_subset]\n",
    "scores = auto_scores[\"scores_noisy\"][ch_subset]\n",
    "limits = auto_scores[\"limits_noisy\"][ch_subset]\n",
    "bins = auto_scores[\"bins\"]  # The the windows that were evaluated.\n",
    "# We will label each segment by its start and stop time, with up to 3\n",
    "# digits before and 3 digits after the decimal place (1 ms precision).\n",
    "bin_labels = [f\"{start:3.3f} – {stop:3.3f}\" for start, stop in bins]\n",
    "\n",
    "# We store the data in a Pandas DataFrame. The seaborn heatmap function\n",
    "# we will call below will then be able to automatically assign the correct\n",
    "# labels to all axes.\n",
    "data_to_plot = pd.DataFrame(\n",
    "    data=scores,\n",
    "    columns=pd.Index(bin_labels, name=\"Time (s)\"),\n",
    "    index=pd.Index(ch_names, name=\"Channel\"),\n",
    ")\n",
    "\n",
    "# First, plot the \"raw\" scores.\n",
    "fig, ax = plt.subplots(1, 2, figsize=(12, 50), layout=\"constrained\")\n",
    "fig.suptitle(\n",
    "    f\"Automated noisy channel detection: {ch_type}\", fontsize=16, fontweight=\"bold\"\n",
    ")\n",
    "sns.heatmap(data=data_to_plot, cmap=\"Reds\", cbar_kws=dict(label=\"Score\"), ax=ax[0])\n",
    "[\n",
    "    ax[0].axvline(x, ls=\"dashed\", lw=0.25, dashes=(25, 15), color=\"gray\")\n",
    "    for x in range(1, len(bins))\n",
    "]\n",
    "ax[0].set_title(\"All Scores\", fontweight=\"bold\")\n",
    "\n",
    "# Now, adjust the color range to highlight segments that exceeded the limit.\n",
    "sns.heatmap(\n",
    "    data=data_to_plot,\n",
    "    vmin=np.nanmin(limits),  # bads in input data have NaN limits\n",
    "    cmap=\"Reds\",\n",
    "    cbar_kws=dict(label=\"Score\"),\n",
    "    ax=ax[1],\n",
    ")\n",
    "[\n",
    "    ax[1].axvline(x, ls=\"dashed\", lw=0.25, dashes=(25, 15), color=\"gray\")\n",
    "    for x in range(1, len(bins))\n",
    "]\n",
    "ax[1].set_title(\"Scores > Limit\", fontweight=\"bold\")\n",
    "plt.show()"
   ]
  },
  {
   "cell_type": "code",
   "execution_count": null,
   "id": "4969f62d-faae-4104-bbcd-b2f33a54bfc4",
   "metadata": {},
   "outputs": [],
   "source": [
    "raw_sss = mne.preprocessing.maxwell_filter(\n",
    "    raw, verbose=True\n",
    ")"
   ]
  },
  {
   "cell_type": "code",
   "execution_count": null,
   "id": "9130f920-f48d-454e-8a76-f78db47177ea",
   "metadata": {},
   "outputs": [],
   "source": [
    "#raw.pick([\"meg\"]).plot(duration=2, butterfly=True)\n",
    "#raw_sss.pick([\"meg\"]).plot(duration=2, butterfly=True)"
   ]
  },
  {
   "cell_type": "code",
   "execution_count": null,
   "id": "e6371cd8-4d6c-42cc-86eb-65959253ae10",
   "metadata": {},
   "outputs": [],
   "source": [
    "save_path = f\"{WORKING_DIR}/raw_sss_repaired_raw_sss.fif\"\n",
    "raw_sss.save(save_path, overwrite=True)"
   ]
  }
 ],
 "metadata": {
  "kernelspec": {
   "display_name": "Python 3 (ipykernel)",
   "language": "python",
   "name": "python3"
  },
  "language_info": {
   "codemirror_mode": {
    "name": "ipython",
    "version": 3
   },
   "file_extension": ".py",
   "mimetype": "text/x-python",
   "name": "python",
   "nbconvert_exporter": "python",
   "pygments_lexer": "ipython3",
   "version": "3.10.13"
  }
 },
 "nbformat": 4,
 "nbformat_minor": 5
}
